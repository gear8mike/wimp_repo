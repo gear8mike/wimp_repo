{
 "cells": [
  {
   "cell_type": "markdown",
   "id": "6c912f57-ee90-4108-a681-77a83dc74434",
   "metadata": {},
   "source": [
    "Use data to produce xsec plot"
   ]
  },
  {
   "cell_type": "code",
   "execution_count": null,
   "id": "16ed3345-83b5-4a8b-833f-7eca31d91d91",
   "metadata": {},
   "outputs": [],
   "source": [
    "import matplotlib.pyplot as plt\n",
    "import pandas as pd\n",
    "\n",
    "%matplotlib inline\n",
    "pd.__version__"
   ]
  },
  {
   "cell_type": "code",
   "execution_count": null,
   "id": "f51515f4-d383-4b8d-aa07-463b3161c066",
   "metadata": {},
   "outputs": [],
   "source": [
    "import numpy as np\n",
    "np.__version__"
   ]
  },
  {
   "cell_type": "code",
   "execution_count": null,
   "id": "7c773611-0843-4cbc-a6ee-a15b7af3ae75",
   "metadata": {},
   "outputs": [],
   "source": [
    "import scipy as sp\n",
    "sp.__version__"
   ]
  },
  {
   "cell_type": "code",
   "execution_count": null,
   "id": "48d37500-be30-4336-92e8-362e987e36bf",
   "metadata": {},
   "outputs": [],
   "source": [
    "df_xsec = pd.read_csv(\"./cross_section_ratio.csv\")\n",
    "df_xsec.shape"
   ]
  },
  {
   "cell_type": "code",
   "execution_count": null,
   "id": "487efcb2-cb46-45c8-8f9c-703bdc9d6a53",
   "metadata": {},
   "outputs": [],
   "source": [
    "df_xsec.head(4)"
   ]
  },
  {
   "cell_type": "code",
   "execution_count": null,
   "id": "10f09296-6fa1-4d36-8eb9-593622519f0c",
   "metadata": {},
   "outputs": [],
   "source": [
    "plt.xlabel(r'$\\frac{m_{\\chi}}{m_{A}}$')\n",
    "plt.ylabel(r'$\\sigma_{tot}, \\quad cm^2$')\n",
    "plt.title('Cross Section')\n",
    "plt.plot(df_xsec.mass_ratio, df_xsec.xsec, color='magenta')\n",
    "plt.grid()\n",
    "plt.show()"
   ]
  },
  {
   "cell_type": "markdown",
   "id": "a68d33c2-d84f-40cb-89e1-a3862a9cb8d7",
   "metadata": {},
   "source": [
    "Mass of $^{180}Ta$ in amu \n",
    "179.947464832  \n",
    "convert to GeV, 1 amu = 0.9315 GeV, hence  \n",
    "$m_{Ta} = 179.947464832 * 0.9315 = 167.621 \\quad GeV$  \n",
    "reasonable value of $^{180}Ta$ is $3~mg$"
   ]
  },
  {
   "cell_type": "code",
   "execution_count": null,
   "id": "d16954fc-c504-40f5-b5dc-2442e479f6dd",
   "metadata": {},
   "outputs": [],
   "source": [
    "# calculate N_0\n",
    "mass_180Ta = 3e-6\n",
    "N_0 = mass_180Ta / (1.6603145e-27 * 179.947464832)\n",
    "N_0"
   ]
  },
  {
   "cell_type": "code",
   "execution_count": null,
   "id": "f4ad47a9-5581-4a1b-ba89-2b4cdaa1904c",
   "metadata": {},
   "outputs": [],
   "source": [
    "m_Ta = 167.621 # in GeV\n",
    "color_hex = \"#eb347a\"\n",
    "\n",
    "fig_width = 8\n",
    "fig_height = 5\n",
    "label_size = 21\n",
    "\n",
    "fig = plt.figure(figsize=(fig_width, fig_height), dpi=120)\n",
    "ax = fig.add_axes([0.1, 0.14, 0.8, 0.8])\n",
    "ax.set_xlabel(r'$\\rm m_{\\chi}, \\quad GeV$', fontsize=label_size, usetex=True)\n",
    "ax.set_ylabel(r'$\\rm \\sigma_{tot} \\times 10^{-40}, \\quad cm^2$', fontsize=label_size, usetex=True)\n",
    "\n",
    "ax.semilogx()\n",
    "# ax.semilogy()\n",
    "ax.tick_params(axis='both', which='both', labelsize=18, width=1.5)\n",
    "ax.grid(which=\"both\")\n",
    "ax.plot(df_xsec.mass_ratio * m_Ta , df_xsec.xsec * 1e40, color=color_hex, linewidth=2)\n",
    "ax.text(0.05, 0.08, fr'$\\rm m_{{Ta}} = {m_Ta}$ GeV', fontsize=19,\n",
    "    ha='left', va='bottom', color='black', backgroundcolor=(1, 1, 1, 0.6), transform=ax.transAxes, usetex=True)\n",
    "\n",
    "\n",
    "plt.show()\n",
    "\n",
    "fig.savefig(\"xsec_as_wimp_mass.pdf\")"
   ]
  },
  {
   "cell_type": "markdown",
   "id": "22418434-9c18-4ee1-8473-39ee7cca3c7b",
   "metadata": {},
   "source": [
    "## Interpolation function for Cross Section"
   ]
  },
  {
   "cell_type": "code",
   "execution_count": null,
   "id": "a1193ff6-d63e-41d0-942a-29fa24b05d44",
   "metadata": {},
   "outputs": [],
   "source": [
    "xsec_interpolation = sp.interpolate.interp1d(df_xsec.mass_ratio * m_Ta , df_xsec.xsec,kind='cubic')"
   ]
  },
  {
   "cell_type": "code",
   "execution_count": null,
   "id": "cb9c135a-eb6a-4ef7-b348-61965f723e83",
   "metadata": {},
   "outputs": [],
   "source": [
    "set_of_Xpoints = np.random.uniform(3.5, 167, 500)\n",
    "set_of_Ypoints = xsec_interpolation(set_of_Xpoints)"
   ]
  },
  {
   "cell_type": "code",
   "execution_count": null,
   "id": "3338b659-67cb-44e9-9ae6-1db88b6fd8e9",
   "metadata": {},
   "outputs": [],
   "source": [
    "plt.plot(set_of_Xpoints, set_of_Ypoints, 'o', color='magenta')\n",
    "plt.plot(df_xsec.mass_ratio * m_Ta , df_xsec.xsec, color=color_hex)\n",
    "plt.show()"
   ]
  },
  {
   "cell_type": "markdown",
   "id": "823584e9-cb4e-48ce-9e50-7070dded6951",
   "metadata": {},
   "source": [
    "`interp1d` can be used for the case of cross section, agreement is very good."
   ]
  },
  {
   "cell_type": "markdown",
   "id": "9cc29eb8-6ad1-45a6-af40-21198ec2f358",
   "metadata": {},
   "source": [
    "Formula for calculation of the $T_{1/2}$:  \n",
    "\n",
    "\n",
    "$$T_{1/2} = \\frac{\\phi \\cdot \\sigma_{N\\chi} \\cdot N_0 \\cdot T \\cdot \\varepsilon \\cdot \\ln(2)}{n_{up}}$$"
   ]
  },
  {
   "cell_type": "code",
   "execution_count": null,
   "id": "0c2390c7-0a03-497f-a9c1-ac8cb37507ac",
   "metadata": {},
   "outputs": [],
   "source": [
    "# list of parameters\n",
    "eff = 0.9\n",
    "# n_up = 3.09 # if bkg = 0\n",
    "# N_0 = 1e22\n",
    "# t_exp = np.arange(1, 11) * 365 * 24 * 3600\n",
    "# t_exp = np.arange(1, 11) # in years\n",
    "t_exp = [1, 3, 5, 7, 10]\n",
    "# upper limits according to FC\n",
    "n_up_array = [2.33, 1.63, 1.54, 1.51, 1.49]"
   ]
  },
  {
   "cell_type": "code",
   "execution_count": null,
   "id": "f7d3f8b6-0863-479f-a266-d03e31e2cf7c",
   "metadata": {},
   "outputs": [],
   "source": [
    "def flux(wimp_mass):\n",
    "    return 2.1e38 * m_Ta / wimp_mass"
   ]
  },
  {
   "cell_type": "code",
   "execution_count": null,
   "id": "548cf720-78c3-4f4a-9261-3ad68f38126e",
   "metadata": {},
   "outputs": [],
   "source": [
    "mass_points = np.arange(3.5, 167.5, 0.5)\n",
    "# mass_points\n",
    "# xsec_interpolation(mass_points)"
   ]
  },
  {
   "cell_type": "code",
   "execution_count": null,
   "id": "42fc8d06-0fd5-4231-8cee-b0281a9c43b3",
   "metadata": {},
   "outputs": [],
   "source": [
    "# from matplotlib.colors import LinearSegmentedColormap\n",
    "import matplotlib.cm as cm\n",
    "from matplotlib.font_manager import FontProperties\n",
    "\n",
    "# Define a custom colormap for the lines\n",
    "cmap = cm.plasma\n",
    "# cmap = LinearSegmentedColormap.from_list(\"line_colors\", [\"blue\", \"green\", \"red\"])\n",
    "\n",
    "font_style = {'font.family': 'serif', 'font.serif': ['Courier New']}\n",
    "# font_style = {'font.family': 'serif', 'font.serif': ['Tahoma']}\n",
    "plt.rcParams.update(font_style)\n",
    "\n",
    "set_of_Xpoints = mass_points\n",
    "\n",
    "fig = plt.figure(figsize=(8, 5.2), dpi=100)\n",
    "ax = fig.add_axes([0.14, 0.14, 0.85, 0.85])\n",
    "\n",
    "for i, (time, n_up) in enumerate(zip(t_exp, n_up_array)):\n",
    "    set_of_Ypoints = xsec_interpolation(mass_points) * flux(mass_points) * N_0 * time * eff * np.log(2) / n_up\n",
    "    \n",
    "    # Apply the colormap to lines\n",
    "    line_color = cmap(i / len(t_exp))  # Adjust color progression\n",
    "    ax.plot(set_of_Xpoints, set_of_Ypoints, label=f\"exp. {time} year\", color=line_color)\n",
    "\n",
    "ax.semilogy()\n",
    "ax.legend(fontsize=15)\n",
    "ax.tick_params(axis='both', which='both', labelsize=18, width=1.5)\n",
    "ax.grid()\n",
    "# ax.set_xlabel(r'$m_{\\chi}, \\quad GeV$', fontsize=12, fontweight='bold')\n",
    "# ax.set_ylabel(r'$T_{1/2} \\: 95\\% \\: C.L., \\quad year$', fontsize=12, fontweight='bold')\n",
    "\n",
    "# font = FontProperties()\n",
    "# font.set_family('serif')\n",
    "# font.set_name('Courier New')\n",
    "\n",
    "label_size = 22\n",
    "ax.set_xlabel(r'$\\rm m_{\\chi}, \\quad GeV$', fontsize=label_size, usetex=True)\n",
    "# ax.set_xlabel(r'WIMP mass, GeV', fontsize=15, fontweight='bold', fontproperties=font)\n",
    "ax.set_ylabel(r'${\\rm T_{1/2} \\: 95\\% \\: C.L., \\quad year}$', fontsize=label_size, usetex=True)\n",
    "# ax.set_ylabel(r'$T_{1/2} \\: 95\\% \\: C.L., \\quad year$', fontsize=12, fontweight='bold', usetex=True)\n",
    "\n",
    "# plt.tight_layout()\n",
    "plt.show()\n",
    "fig.savefig(\"T_12_as_function_wimp_mass.pdf\")"
   ]
  },
  {
   "cell_type": "code",
   "execution_count": null,
   "id": "f1d8cd0c-9a85-45f6-a737-ccc75f46c68e",
   "metadata": {},
   "outputs": [],
   "source": [
    "# amu to kg\n",
    "mass_for_exp = 1.6603145e-27 * N_0 * 179.947464832\n",
    "mass_for_exp"
   ]
  }
 ],
 "metadata": {
  "kernelspec": {
   "display_name": "wimp",
   "language": "python",
   "name": "wimp"
  },
  "language_info": {
   "codemirror_mode": {
    "name": "ipython",
    "version": 3
   },
   "file_extension": ".py",
   "mimetype": "text/x-python",
   "name": "python",
   "nbconvert_exporter": "python",
   "pygments_lexer": "ipython3",
   "version": "3.11.5"
  }
 },
 "nbformat": 4,
 "nbformat_minor": 5
}
